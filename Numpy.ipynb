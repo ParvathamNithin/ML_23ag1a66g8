{
  "nbformat": 4,
  "nbformat_minor": 0,
  "metadata": {
    "colab": {
      "provenance": [],
      "authorship_tag": "ABX9TyMQnLzQhcJ7M7m19lZ+uXFZ",
      "include_colab_link": true
    },
    "kernelspec": {
      "name": "python3",
      "display_name": "Python 3"
    },
    "language_info": {
      "name": "python"
    }
  },
  "cells": [
    {
      "cell_type": "markdown",
      "metadata": {
        "id": "view-in-github",
        "colab_type": "text"
      },
      "source": [
        "<a href=\"https://colab.research.google.com/github/ParvathamNithin/ML_23ag1a66g8/blob/main/Numpy.ipynb\" target=\"_parent\"><img src=\"https://colab.research.google.com/assets/colab-badge.svg\" alt=\"Open In Colab\"/></a>"
      ]
    },
    {
      "cell_type": "code",
      "source": [
        "import numpy as np\n"
      ],
      "metadata": {
        "id": "mU8Uv3zpEgCI"
      },
      "execution_count": 4,
      "outputs": []
    },
    {
      "cell_type": "code",
      "source": [
        "array1=np.array([1,2])\n",
        "print(array1)"
      ],
      "metadata": {
        "colab": {
          "base_uri": "https://localhost:8080/"
        },
        "id": "9hTFqipTEmzu",
        "outputId": "e96b1189-63d9-4f1c-c373-a1385c7b274e"
      },
      "execution_count": 6,
      "outputs": [
        {
          "output_type": "stream",
          "name": "stdout",
          "text": [
            "[1 2]\n"
          ]
        }
      ]
    },
    {
      "cell_type": "code",
      "source": [
        "array1=np.array([[1,2,3],[4,5,6]])\n",
        "print(array1)\n"
      ],
      "metadata": {
        "colab": {
          "base_uri": "https://localhost:8080/"
        },
        "id": "Ix4fDJEHE44a",
        "outputId": "7b68a76a-b494-4a3b-e219-28a08cab5650"
      },
      "execution_count": 7,
      "outputs": [
        {
          "output_type": "stream",
          "name": "stdout",
          "text": [
            "[[1 2 3]\n",
            " [4 5 6]]\n"
          ]
        }
      ]
    },
    {
      "cell_type": "code",
      "source": [
        "  array2= np.array([[1, 2, 3], [4, 5, 6]])\n",
        "  print(array2)"
      ],
      "metadata": {
        "colab": {
          "base_uri": "https://localhost:8080/"
        },
        "id": "3uLqd_wRFiiQ",
        "outputId": "f794f649-b990-462e-f45a-197ffa1fb58c"
      },
      "execution_count": 23,
      "outputs": [
        {
          "output_type": "stream",
          "name": "stdout",
          "text": [
            "[[1 2 3]\n",
            " [4 5 6]]\n"
          ]
        }
      ]
    },
    {
      "cell_type": "code",
      "source": [
        " array3 = np.array([[[1, 2,1], [3, 4,3],[7,8,9]], [[5, 6,6], [7, 8,7],[1,0,3]]])\n",
        " print(array3)"
      ],
      "metadata": {
        "colab": {
          "base_uri": "https://localhost:8080/"
        },
        "id": "3A5C4T9fHlj3",
        "outputId": "e76cae51-1986-455f-c6fc-9d5e9ae5e9e8"
      },
      "execution_count": 26,
      "outputs": [
        {
          "output_type": "stream",
          "name": "stdout",
          "text": [
            "[[[1 2 1]\n",
            "  [3 4 3]\n",
            "  [7 8 9]]\n",
            "\n",
            " [[5 6 6]\n",
            "  [7 8 7]\n",
            "  [1 0 3]]]\n"
          ]
        }
      ]
    },
    {
      "cell_type": "code",
      "source": [
        "Data = np.array([10,20,30,40,50])\n",
        "mean = np.mean(Data)\n",
        "print(f\"Mean is {mean}\")\n",
        "median = np.median(Data)\n",
        "print(f\"Meadian is {median}\")\n"
      ],
      "metadata": {
        "colab": {
          "base_uri": "https://localhost:8080/"
        },
        "id": "kE-u6vc2I2CM",
        "outputId": "4ded2e73-976e-4e43-f834-2a3f6abcc324"
      },
      "execution_count": 27,
      "outputs": [
        {
          "output_type": "stream",
          "name": "stdout",
          "text": [
            "Mean is 30.0\n",
            "Meadian is 30.0\n"
          ]
        }
      ]
    }
  ]
}